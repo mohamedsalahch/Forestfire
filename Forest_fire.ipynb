{
  "metadata": {
    "kernelspec": {
      "language": "python",
      "display_name": "Python 3",
      "name": "python3"
    },
    "language_info": {
      "name": "python",
      "version": "3.7.12",
      "mimetype": "text/x-python",
      "codemirror_mode": {
        "name": "ipython",
        "version": 3
      },
      "pygments_lexer": "ipython3",
      "nbconvert_exporter": "python",
      "file_extension": ".py"
    },
    "colab": {
      "provenance": []
    }
  },
  "nbformat_minor": 0,
  "nbformat": 4,
  "cells": [
    {
      "cell_type": "code",
      "source": [
        "# This Python 3 environment comes with many helpful analytics libraries installed\n",
        "# It is defined by the kaggle/python Docker image: https://github.com/kaggle/docker-python\n",
        "# For example, here's several helpful packages to load\n",
        " \n",
        "import numpy as np \n",
        "import pandas as pd \n",
        " \n",
        "# Input data files are available in the read-only \"../input/\" directory\n",
        "# For example, running this (by clicking run or pressing Shift+Enter) will list all files under the input directory\n",
        " \n",
        "import matplotlib.pyplot as plt\n",
        "import seaborn as sns\n",
        "from scipy import stats\n",
        "%matplotlib inline\n",
        "\n",
        "from sklearn.preprocessing import StandardScaler\n",
        "from sklearn.model_selection import train_test_split\n",
        "import itertools\n",
        "from sklearn import metrics\n",
        "from sklearn.model_selection import GridSearchCV\n",
        "from sklearn.model_selection import RandomizedSearchCV\n",
        "from sklearn.pipeline import make_pipeline\n",
        "from sklearn.metrics import mean_squared_error\n",
        "from sklearn.metrics import mean_absolute_error\n",
        "from sklearn.ensemble import RandomForestRegressor\n",
        "from sklearn.linear_model import LinearRegression\n",
        "from sklearn.model_selection import cross_val_score\n",
        "import xgboost as xgb\n",
        "import sklearn.tree as tree\n",
        "#from mlxtend.feature_selection import SequentialFeatureSelector as sfs\n",
        "from mlxtend.plotting import plot_sequential_feature_selection as plot_sfs\n",
        "\n",
        "import os\n",
        "for dirname, _, filenames in os.walk('/kaggle/input'):\n",
        "    for filename in filenames:\n",
        "        print(os.path.join(dirname, filename))\n",
        "\n",
        "# You can write up to 20GB to the current directory (/kaggle/working/) that gets preserved as output when you create a version using \"Save & Run All\" \n",
        "# You can also write temporary files to /kaggle/temp/, but they won't be saved outside of the current session"
      ],
      "metadata": {
        "_uuid": "8f2839f25d086af736a60e9eeb907d3b93b6e0e5",
        "_cell_guid": "b1076dfc-b9ad-4769-8c92-a6c4dae69d19",
        "execution": {
          "iopub.status.busy": "2023-05-27T19:30:06.785273Z",
          "iopub.execute_input": "2023-05-27T19:30:06.785731Z",
          "iopub.status.idle": "2023-05-27T19:30:06.809310Z",
          "shell.execute_reply.started": "2023-05-27T19:30:06.785690Z",
          "shell.execute_reply": "2023-05-27T19:30:06.807747Z"
        },
        "trusted": true,
        "id": "uaOcwScF1tRz"
      },
      "execution_count": null,
      "outputs": []
    },
    {
      "cell_type": "code",
      "source": [
        "df = pd.read_csv('/content/forestfires.csv')\n",
        "df.head()\n",
        "df=df.drop(columns=['X','Y','day'])\n"
      ],
      "metadata": {
        "execution": {
          "iopub.status.busy": "2023-05-27T19:30:06.812229Z",
          "iopub.execute_input": "2023-05-27T19:30:06.812983Z",
          "iopub.status.idle": "2023-05-27T19:30:06.852671Z",
          "shell.execute_reply.started": "2023-05-27T19:30:06.812694Z",
          "shell.execute_reply": "2023-05-27T19:30:06.851265Z"
        },
        "trusted": true,
        "id": "-RKxK48X1tR3",
        "colab": {
          "base_uri": "https://localhost:8080/",
          "height": 363
        },
        "outputId": "436a83fc-34dd-414a-fa24-38878499b0f0"
      },
      "execution_count": null,
      "outputs": [
        {
          "output_type": "error",
          "ename": "FileNotFoundError",
          "evalue": "ignored",
          "traceback": [
            "\u001b[0;31m---------------------------------------------------------------------------\u001b[0m",
            "\u001b[0;31mFileNotFoundError\u001b[0m                         Traceback (most recent call last)",
            "\u001b[0;32m<ipython-input-2-6303f3eafffc>\u001b[0m in \u001b[0;36m<cell line: 1>\u001b[0;34m()\u001b[0m\n\u001b[0;32m----> 1\u001b[0;31m \u001b[0mdf\u001b[0m \u001b[0;34m=\u001b[0m \u001b[0mpd\u001b[0m\u001b[0;34m.\u001b[0m\u001b[0mread_csv\u001b[0m\u001b[0;34m(\u001b[0m\u001b[0;34m'/content/forestfires.csv'\u001b[0m\u001b[0;34m)\u001b[0m\u001b[0;34m\u001b[0m\u001b[0;34m\u001b[0m\u001b[0m\n\u001b[0m\u001b[1;32m      2\u001b[0m \u001b[0mdf\u001b[0m\u001b[0;34m.\u001b[0m\u001b[0mhead\u001b[0m\u001b[0;34m(\u001b[0m\u001b[0;34m)\u001b[0m\u001b[0;34m\u001b[0m\u001b[0;34m\u001b[0m\u001b[0m\n\u001b[1;32m      3\u001b[0m \u001b[0mdf\u001b[0m\u001b[0;34m=\u001b[0m\u001b[0mdf\u001b[0m\u001b[0;34m.\u001b[0m\u001b[0mdrop\u001b[0m\u001b[0;34m(\u001b[0m\u001b[0mcolumns\u001b[0m\u001b[0;34m=\u001b[0m\u001b[0;34m[\u001b[0m\u001b[0;34m'X'\u001b[0m\u001b[0;34m,\u001b[0m\u001b[0;34m'Y'\u001b[0m\u001b[0;34m,\u001b[0m\u001b[0;34m'day'\u001b[0m\u001b[0;34m]\u001b[0m\u001b[0;34m)\u001b[0m\u001b[0;34m\u001b[0m\u001b[0;34m\u001b[0m\u001b[0m\n",
            "\u001b[0;32m/usr/local/lib/python3.10/dist-packages/pandas/util/_decorators.py\u001b[0m in \u001b[0;36mwrapper\u001b[0;34m(*args, **kwargs)\u001b[0m\n\u001b[1;32m    209\u001b[0m                 \u001b[0;32melse\u001b[0m\u001b[0;34m:\u001b[0m\u001b[0;34m\u001b[0m\u001b[0;34m\u001b[0m\u001b[0m\n\u001b[1;32m    210\u001b[0m                     \u001b[0mkwargs\u001b[0m\u001b[0;34m[\u001b[0m\u001b[0mnew_arg_name\u001b[0m\u001b[0;34m]\u001b[0m \u001b[0;34m=\u001b[0m \u001b[0mnew_arg_value\u001b[0m\u001b[0;34m\u001b[0m\u001b[0;34m\u001b[0m\u001b[0m\n\u001b[0;32m--> 211\u001b[0;31m             \u001b[0;32mreturn\u001b[0m \u001b[0mfunc\u001b[0m\u001b[0;34m(\u001b[0m\u001b[0;34m*\u001b[0m\u001b[0margs\u001b[0m\u001b[0;34m,\u001b[0m \u001b[0;34m**\u001b[0m\u001b[0mkwargs\u001b[0m\u001b[0;34m)\u001b[0m\u001b[0;34m\u001b[0m\u001b[0;34m\u001b[0m\u001b[0m\n\u001b[0m\u001b[1;32m    212\u001b[0m \u001b[0;34m\u001b[0m\u001b[0m\n\u001b[1;32m    213\u001b[0m         \u001b[0;32mreturn\u001b[0m \u001b[0mcast\u001b[0m\u001b[0;34m(\u001b[0m\u001b[0mF\u001b[0m\u001b[0;34m,\u001b[0m \u001b[0mwrapper\u001b[0m\u001b[0;34m)\u001b[0m\u001b[0;34m\u001b[0m\u001b[0;34m\u001b[0m\u001b[0m\n",
            "\u001b[0;32m/usr/local/lib/python3.10/dist-packages/pandas/util/_decorators.py\u001b[0m in \u001b[0;36mwrapper\u001b[0;34m(*args, **kwargs)\u001b[0m\n\u001b[1;32m    329\u001b[0m                     \u001b[0mstacklevel\u001b[0m\u001b[0;34m=\u001b[0m\u001b[0mfind_stack_level\u001b[0m\u001b[0;34m(\u001b[0m\u001b[0;34m)\u001b[0m\u001b[0;34m,\u001b[0m\u001b[0;34m\u001b[0m\u001b[0;34m\u001b[0m\u001b[0m\n\u001b[1;32m    330\u001b[0m                 )\n\u001b[0;32m--> 331\u001b[0;31m             \u001b[0;32mreturn\u001b[0m \u001b[0mfunc\u001b[0m\u001b[0;34m(\u001b[0m\u001b[0;34m*\u001b[0m\u001b[0margs\u001b[0m\u001b[0;34m,\u001b[0m \u001b[0;34m**\u001b[0m\u001b[0mkwargs\u001b[0m\u001b[0;34m)\u001b[0m\u001b[0;34m\u001b[0m\u001b[0;34m\u001b[0m\u001b[0m\n\u001b[0m\u001b[1;32m    332\u001b[0m \u001b[0;34m\u001b[0m\u001b[0m\n\u001b[1;32m    333\u001b[0m         \u001b[0;31m# error: \"Callable[[VarArg(Any), KwArg(Any)], Any]\" has no\u001b[0m\u001b[0;34m\u001b[0m\u001b[0;34m\u001b[0m\u001b[0m\n",
            "\u001b[0;32m/usr/local/lib/python3.10/dist-packages/pandas/io/parsers/readers.py\u001b[0m in \u001b[0;36mread_csv\u001b[0;34m(filepath_or_buffer, sep, delimiter, header, names, index_col, usecols, squeeze, prefix, mangle_dupe_cols, dtype, engine, converters, true_values, false_values, skipinitialspace, skiprows, skipfooter, nrows, na_values, keep_default_na, na_filter, verbose, skip_blank_lines, parse_dates, infer_datetime_format, keep_date_col, date_parser, dayfirst, cache_dates, iterator, chunksize, compression, thousands, decimal, lineterminator, quotechar, quoting, doublequote, escapechar, comment, encoding, encoding_errors, dialect, error_bad_lines, warn_bad_lines, on_bad_lines, delim_whitespace, low_memory, memory_map, float_precision, storage_options)\u001b[0m\n\u001b[1;32m    948\u001b[0m     \u001b[0mkwds\u001b[0m\u001b[0;34m.\u001b[0m\u001b[0mupdate\u001b[0m\u001b[0;34m(\u001b[0m\u001b[0mkwds_defaults\u001b[0m\u001b[0;34m)\u001b[0m\u001b[0;34m\u001b[0m\u001b[0;34m\u001b[0m\u001b[0m\n\u001b[1;32m    949\u001b[0m \u001b[0;34m\u001b[0m\u001b[0m\n\u001b[0;32m--> 950\u001b[0;31m     \u001b[0;32mreturn\u001b[0m \u001b[0m_read\u001b[0m\u001b[0;34m(\u001b[0m\u001b[0mfilepath_or_buffer\u001b[0m\u001b[0;34m,\u001b[0m \u001b[0mkwds\u001b[0m\u001b[0;34m)\u001b[0m\u001b[0;34m\u001b[0m\u001b[0;34m\u001b[0m\u001b[0m\n\u001b[0m\u001b[1;32m    951\u001b[0m \u001b[0;34m\u001b[0m\u001b[0m\n\u001b[1;32m    952\u001b[0m \u001b[0;34m\u001b[0m\u001b[0m\n",
            "\u001b[0;32m/usr/local/lib/python3.10/dist-packages/pandas/io/parsers/readers.py\u001b[0m in \u001b[0;36m_read\u001b[0;34m(filepath_or_buffer, kwds)\u001b[0m\n\u001b[1;32m    603\u001b[0m \u001b[0;34m\u001b[0m\u001b[0m\n\u001b[1;32m    604\u001b[0m     \u001b[0;31m# Create the parser.\u001b[0m\u001b[0;34m\u001b[0m\u001b[0;34m\u001b[0m\u001b[0m\n\u001b[0;32m--> 605\u001b[0;31m     \u001b[0mparser\u001b[0m \u001b[0;34m=\u001b[0m \u001b[0mTextFileReader\u001b[0m\u001b[0;34m(\u001b[0m\u001b[0mfilepath_or_buffer\u001b[0m\u001b[0;34m,\u001b[0m \u001b[0;34m**\u001b[0m\u001b[0mkwds\u001b[0m\u001b[0;34m)\u001b[0m\u001b[0;34m\u001b[0m\u001b[0;34m\u001b[0m\u001b[0m\n\u001b[0m\u001b[1;32m    606\u001b[0m \u001b[0;34m\u001b[0m\u001b[0m\n\u001b[1;32m    607\u001b[0m     \u001b[0;32mif\u001b[0m \u001b[0mchunksize\u001b[0m \u001b[0;32mor\u001b[0m \u001b[0miterator\u001b[0m\u001b[0;34m:\u001b[0m\u001b[0;34m\u001b[0m\u001b[0;34m\u001b[0m\u001b[0m\n",
            "\u001b[0;32m/usr/local/lib/python3.10/dist-packages/pandas/io/parsers/readers.py\u001b[0m in \u001b[0;36m__init__\u001b[0;34m(self, f, engine, **kwds)\u001b[0m\n\u001b[1;32m   1440\u001b[0m \u001b[0;34m\u001b[0m\u001b[0m\n\u001b[1;32m   1441\u001b[0m         \u001b[0mself\u001b[0m\u001b[0;34m.\u001b[0m\u001b[0mhandles\u001b[0m\u001b[0;34m:\u001b[0m \u001b[0mIOHandles\u001b[0m \u001b[0;34m|\u001b[0m \u001b[0;32mNone\u001b[0m \u001b[0;34m=\u001b[0m \u001b[0;32mNone\u001b[0m\u001b[0;34m\u001b[0m\u001b[0;34m\u001b[0m\u001b[0m\n\u001b[0;32m-> 1442\u001b[0;31m         \u001b[0mself\u001b[0m\u001b[0;34m.\u001b[0m\u001b[0m_engine\u001b[0m \u001b[0;34m=\u001b[0m \u001b[0mself\u001b[0m\u001b[0;34m.\u001b[0m\u001b[0m_make_engine\u001b[0m\u001b[0;34m(\u001b[0m\u001b[0mf\u001b[0m\u001b[0;34m,\u001b[0m \u001b[0mself\u001b[0m\u001b[0;34m.\u001b[0m\u001b[0mengine\u001b[0m\u001b[0;34m)\u001b[0m\u001b[0;34m\u001b[0m\u001b[0;34m\u001b[0m\u001b[0m\n\u001b[0m\u001b[1;32m   1443\u001b[0m \u001b[0;34m\u001b[0m\u001b[0m\n\u001b[1;32m   1444\u001b[0m     \u001b[0;32mdef\u001b[0m \u001b[0mclose\u001b[0m\u001b[0;34m(\u001b[0m\u001b[0mself\u001b[0m\u001b[0;34m)\u001b[0m \u001b[0;34m->\u001b[0m \u001b[0;32mNone\u001b[0m\u001b[0;34m:\u001b[0m\u001b[0;34m\u001b[0m\u001b[0;34m\u001b[0m\u001b[0m\n",
            "\u001b[0;32m/usr/local/lib/python3.10/dist-packages/pandas/io/parsers/readers.py\u001b[0m in \u001b[0;36m_make_engine\u001b[0;34m(self, f, engine)\u001b[0m\n\u001b[1;32m   1733\u001b[0m                 \u001b[0;32mif\u001b[0m \u001b[0;34m\"b\"\u001b[0m \u001b[0;32mnot\u001b[0m \u001b[0;32min\u001b[0m \u001b[0mmode\u001b[0m\u001b[0;34m:\u001b[0m\u001b[0;34m\u001b[0m\u001b[0;34m\u001b[0m\u001b[0m\n\u001b[1;32m   1734\u001b[0m                     \u001b[0mmode\u001b[0m \u001b[0;34m+=\u001b[0m \u001b[0;34m\"b\"\u001b[0m\u001b[0;34m\u001b[0m\u001b[0;34m\u001b[0m\u001b[0m\n\u001b[0;32m-> 1735\u001b[0;31m             self.handles = get_handle(\n\u001b[0m\u001b[1;32m   1736\u001b[0m                 \u001b[0mf\u001b[0m\u001b[0;34m,\u001b[0m\u001b[0;34m\u001b[0m\u001b[0;34m\u001b[0m\u001b[0m\n\u001b[1;32m   1737\u001b[0m                 \u001b[0mmode\u001b[0m\u001b[0;34m,\u001b[0m\u001b[0;34m\u001b[0m\u001b[0;34m\u001b[0m\u001b[0m\n",
            "\u001b[0;32m/usr/local/lib/python3.10/dist-packages/pandas/io/common.py\u001b[0m in \u001b[0;36mget_handle\u001b[0;34m(path_or_buf, mode, encoding, compression, memory_map, is_text, errors, storage_options)\u001b[0m\n\u001b[1;32m    854\u001b[0m         \u001b[0;32mif\u001b[0m \u001b[0mioargs\u001b[0m\u001b[0;34m.\u001b[0m\u001b[0mencoding\u001b[0m \u001b[0;32mand\u001b[0m \u001b[0;34m\"b\"\u001b[0m \u001b[0;32mnot\u001b[0m \u001b[0;32min\u001b[0m \u001b[0mioargs\u001b[0m\u001b[0;34m.\u001b[0m\u001b[0mmode\u001b[0m\u001b[0;34m:\u001b[0m\u001b[0;34m\u001b[0m\u001b[0;34m\u001b[0m\u001b[0m\n\u001b[1;32m    855\u001b[0m             \u001b[0;31m# Encoding\u001b[0m\u001b[0;34m\u001b[0m\u001b[0;34m\u001b[0m\u001b[0m\n\u001b[0;32m--> 856\u001b[0;31m             handle = open(\n\u001b[0m\u001b[1;32m    857\u001b[0m                 \u001b[0mhandle\u001b[0m\u001b[0;34m,\u001b[0m\u001b[0;34m\u001b[0m\u001b[0;34m\u001b[0m\u001b[0m\n\u001b[1;32m    858\u001b[0m                 \u001b[0mioargs\u001b[0m\u001b[0;34m.\u001b[0m\u001b[0mmode\u001b[0m\u001b[0;34m,\u001b[0m\u001b[0;34m\u001b[0m\u001b[0;34m\u001b[0m\u001b[0m\n",
            "\u001b[0;31mFileNotFoundError\u001b[0m: [Errno 2] No such file or directory: '/content/forestfires.csv'"
          ]
        }
      ]
    },
    {
      "cell_type": "code",
      "source": [
        "def damage_func(area):\n",
        "    if area == 0.0:\n",
        "        return 0\n",
        "    else:\n",
        "        return 1\n",
        "\n",
        "df['damage'] = df['area'].apply(damage_func)"
      ],
      "metadata": {
        "id": "Lhwv89oanA_J"
      },
      "execution_count": null,
      "outputs": []
    },
    {
      "cell_type": "code",
      "source": [
        "df1 = pd.read_csv('/content/Algerian_forest_fires_dataset_UPDATE.csv')"
      ],
      "metadata": {
        "id": "AmyaAsxnkevY"
      },
      "execution_count": null,
      "outputs": []
    },
    {
      "cell_type": "code",
      "source": [
        "print(df.columns,\"/n\",df1.columns)"
      ],
      "metadata": {
        "id": "ruIvCMjynB0t"
      },
      "execution_count": null,
      "outputs": []
    },
    {
      "cell_type": "code",
      "source": [
        "month_dict = {'mar': 3, 'oct': 10, 'aug': 8, 'sep': 9, 'apr': 4, 'jun': 6, 'jul': 7,\n",
        "              'feb': 2, 'jan': 1, 'dec': 12, 'may': 5, 'nov': 11}\n",
        "day_dict = {'fri': 5, 'tue': 2, 'sat': 6, 'sun': 7, 'mon': 1, 'wed': 3, 'thu': 4}\n"
      ],
      "metadata": {
        "execution": {
          "iopub.status.busy": "2023-05-27T19:30:06.855397Z",
          "iopub.execute_input": "2023-05-27T19:30:06.855980Z",
          "iopub.status.idle": "2023-05-27T19:30:06.865287Z",
          "shell.execute_reply.started": "2023-05-27T19:30:06.855927Z",
          "shell.execute_reply": "2023-05-27T19:30:06.863760Z"
        },
        "trusted": true,
        "id": "b_fcQGV21tR3"
      },
      "execution_count": null,
      "outputs": []
    },
    {
      "cell_type": "code",
      "source": [
        "df.replace(month_dict.keys(),month_dict.values(),inplace=True)\n",
        "df.replace(day_dict.keys(),day_dict.values(),inplace=True)\n",
        "df.head()"
      ],
      "metadata": {
        "execution": {
          "iopub.status.busy": "2023-05-27T19:30:06.867771Z",
          "iopub.execute_input": "2023-05-27T19:30:06.868774Z",
          "iopub.status.idle": "2023-05-27T19:30:06.909509Z",
          "shell.execute_reply.started": "2023-05-27T19:30:06.868718Z",
          "shell.execute_reply": "2023-05-27T19:30:06.908127Z"
        },
        "trusted": true,
        "id": "vlV2KSVk1tR4"
      },
      "execution_count": null,
      "outputs": []
    },
    {
      "cell_type": "code",
      "source": [
        "new_column_names = {'Temperature': 'temp', 'Rain ': 'rain','Classes  ':'damage',' RH':'RH',' Ws':'wind'}\n",
        "df1 = df1.rename(columns=new_column_names)"
      ],
      "metadata": {
        "id": "GuTD6hCvoBN_"
      },
      "execution_count": null,
      "outputs": []
    },
    {
      "cell_type": "code",
      "source": [
        "df1.head()"
      ],
      "metadata": {
        "id": "i-kmpvVKsWK0"
      },
      "execution_count": null,
      "outputs": []
    },
    {
      "cell_type": "code",
      "source": [
        "df1['damage'][0]"
      ],
      "metadata": {
        "id": "xQPIKiR9tlcY"
      },
      "execution_count": null,
      "outputs": []
    },
    {
      "cell_type": "code",
      "source": [
        "def damage_func1(damage):\n",
        "    if damage == 'not fire   ':\n",
        "        return 0\n",
        "    else:\n",
        "        return 1\n",
        "\n",
        "df1['damage'] = df1['damage'].apply(damage_func1)"
      ],
      "metadata": {
        "id": "N-VaNgm1svE5"
      },
      "execution_count": null,
      "outputs": []
    },
    {
      "cell_type": "code",
      "source": [
        "df1.head()"
      ],
      "metadata": {
        "id": "7rYt4IV6s6kE"
      },
      "execution_count": null,
      "outputs": []
    },
    {
      "cell_type": "code",
      "source": [],
      "metadata": {
        "id": "kOSfjvNvs4Zr"
      },
      "execution_count": null,
      "outputs": []
    },
    {
      "cell_type": "code",
      "source": [
        "df.info()"
      ],
      "metadata": {
        "execution": {
          "iopub.status.busy": "2023-05-27T19:30:06.912826Z",
          "iopub.execute_input": "2023-05-27T19:30:06.913282Z",
          "iopub.status.idle": "2023-05-27T19:30:06.929657Z",
          "shell.execute_reply.started": "2023-05-27T19:30:06.913240Z",
          "shell.execute_reply": "2023-05-27T19:30:06.928073Z"
        },
        "trusted": true,
        "id": "DnQLLxgv1tR6"
      },
      "execution_count": null,
      "outputs": []
    },
    {
      "cell_type": "code",
      "source": [
        "df1=df1.drop(columns=['day','BUI','FWI','year'])\n",
        "display(df.dtypes)\n",
        "display(df1.dtypes)\n"
      ],
      "metadata": {
        "execution": {
          "iopub.status.busy": "2023-05-27T19:30:07.023971Z",
          "iopub.execute_input": "2023-05-27T19:30:07.025134Z",
          "iopub.status.idle": "2023-05-27T19:30:07.034742Z",
          "shell.execute_reply.started": "2023-05-27T19:30:07.025083Z",
          "shell.execute_reply": "2023-05-27T19:30:07.033280Z"
        },
        "trusted": true,
        "id": "tuGr6crM1tR7"
      },
      "execution_count": null,
      "outputs": []
    },
    {
      "cell_type": "code",
      "source": [
        "df1.isna().sum()\n",
        "df1=df1.dropna()\n",
        "df1.isna().sum()"
      ],
      "metadata": {
        "id": "d47FMQX0ysgd"
      },
      "execution_count": null,
      "outputs": []
    },
    {
      "cell_type": "code",
      "source": [
        "# Replace non-numeric values with NaN\n",
        "df1['month'] = pd.to_numeric(df1['month'], errors='coerce')\n",
        "\n",
        "# Drop rows with missing values in 'month' column\n",
        "df1 = df1.dropna(subset=['month'])\n"
      ],
      "metadata": {
        "id": "D2_qVlKgvtB3"
      },
      "execution_count": null,
      "outputs": []
    },
    {
      "cell_type": "code",
      "source": [
        "df1_copy = df1.copy()\n",
        "df1_copy.loc[:, 'month'] = df1_copy['month'].astype('int64')\n",
        "df1_copy.loc[:, 'temp'] = df1_copy['temp'].astype('float64')\n",
        "df1_copy.loc[:, 'RH'] = df1_copy['RH'].astype('int64')\n",
        "df1_copy.loc[:, 'wind'] = df1_copy['wind'].astype('float64')\n",
        "df1_copy.loc[:, 'rain'] = df1_copy['rain'].astype('float64')\n",
        "df1_copy.loc[:, 'FFMC'] = df1_copy['FFMC'].astype('float64')\n",
        "df1_copy.loc[:, 'DMC'] = df1_copy['DMC'].astype('float64')\n",
        "df1_copy.loc[:, 'DC'] = pd.to_numeric(df1_copy['DC'], errors='coerce').astype('float64')\n",
        "df1_copy.loc[:, 'ISI'] = pd.to_numeric(df1_copy['ISI'], errors='coerce').astype('float64')\n",
        "df1_copy=df1_copy.dropna()"
      ],
      "metadata": {
        "id": "tJDbJafn0eMX"
      },
      "execution_count": null,
      "outputs": []
    },
    {
      "cell_type": "code",
      "source": [
        "display(df1_copy.dtypes)"
      ],
      "metadata": {
        "id": "CVkbBFznz_M0"
      },
      "execution_count": null,
      "outputs": []
    },
    {
      "cell_type": "code",
      "source": [
        "df = pd.concat([df, df1_copy], ignore_index=True)"
      ],
      "metadata": {
        "id": "l7vA_QhO1if3"
      },
      "execution_count": null,
      "outputs": []
    },
    {
      "cell_type": "code",
      "source": [
        "df"
      ],
      "metadata": {
        "id": "o6st9Y6K1zvV"
      },
      "execution_count": null,
      "outputs": []
    },
    {
      "cell_type": "code",
      "source": [
        "\n"
      ],
      "metadata": {
        "trusted": true,
        "id": "BNkdHp-21tR_"
      },
      "execution_count": null,
      "outputs": []
    },
    {
      "cell_type": "markdown",
      "source": [
        "# Features"
      ],
      "metadata": {
        "id": "P9oJmfr61tSA"
      }
    },
    {
      "cell_type": "code",
      "source": [
        "df=df.drop(columns='area')\n",
        "df.head()"
      ],
      "metadata": {
        "execution": {
          "iopub.status.busy": "2023-05-27T19:31:22.023977Z",
          "iopub.execute_input": "2023-05-27T19:31:22.024438Z",
          "iopub.status.idle": "2023-05-27T19:31:22.048906Z",
          "shell.execute_reply.started": "2023-05-27T19:31:22.024398Z",
          "shell.execute_reply": "2023-05-27T19:31:22.047148Z"
        },
        "trusted": true,
        "id": "oYiU5ncL1tSJ"
      },
      "execution_count": null,
      "outputs": []
    },
    {
      "cell_type": "code",
      "source": [
        "# # Categorical: Month and day\n",
        "# df = pd.get_dummies(df,columns=['day','month'],drop_first=True)"
      ],
      "metadata": {
        "execution": {
          "iopub.status.busy": "2023-05-27T19:31:04.866655Z",
          "iopub.status.idle": "2023-05-27T19:31:04.867401Z",
          "shell.execute_reply.started": "2023-05-27T19:31:04.867135Z",
          "shell.execute_reply": "2023-05-27T19:31:04.867172Z"
        },
        "trusted": true,
        "id": "U-V46_4z1tSJ"
      },
      "execution_count": null,
      "outputs": []
    },
    {
      "cell_type": "markdown",
      "source": [
        "# Model Building"
      ],
      "metadata": {
        "id": "vpanJIHJ1tSK"
      }
    },
    {
      "cell_type": "markdown",
      "source": [
        "After model fitting, I apply the reverse log transform, to compare with test data (RMSE has same units as target, and it's more intuitive to report in units of area rather than log area)."
      ],
      "metadata": {
        "id": "8S5WCYWg1tSK"
      }
    },
    {
      "cell_type": "code",
      "source": [
        "\n",
        "df=df.dropna()\n",
        "# Creating bins of in the target, to stratify in train/test split\n",
        "df['damage_bin'] = pd.cut(df['damage'], 5)\n",
        "X = df.drop(columns='damage') \n",
        "y = df['damage']\n"
      ],
      "metadata": {
        "execution": {
          "iopub.status.busy": "2023-05-27T19:41:16.854292Z",
          "iopub.execute_input": "2023-05-27T19:41:16.854763Z",
          "iopub.status.idle": "2023-05-27T19:41:16.867984Z",
          "shell.execute_reply.started": "2023-05-27T19:41:16.854727Z",
          "shell.execute_reply": "2023-05-27T19:41:16.866788Z"
        },
        "trusted": true,
        "id": "fsunqfTA1tSK"
      },
      "execution_count": null,
      "outputs": []
    },
    {
      "cell_type": "code",
      "source": [],
      "metadata": {
        "execution": {
          "iopub.status.busy": "2023-05-27T19:42:00.408261Z",
          "iopub.execute_input": "2023-05-27T19:42:00.408689Z",
          "iopub.status.idle": "2023-05-27T19:42:00.432162Z",
          "shell.execute_reply.started": "2023-05-27T19:42:00.408653Z",
          "shell.execute_reply": "2023-05-27T19:42:00.430608Z"
        },
        "trusted": true,
        "id": "Xba_dO2x1tSK"
      },
      "execution_count": null,
      "outputs": []
    },
    {
      "cell_type": "markdown",
      "source": [
        "First, there is a bit of an issue due to the dataset's small size. I noticed setting a random seed for reproducibility had a large affect on the final model and predictions. I illustrate this below:"
      ],
      "metadata": {
        "id": "87aE_07H1tSL"
      }
    },
    {
      "cell_type": "code",
      "source": [
        "rs = 99\n",
        "X_train, X_test, Y_train, Y_test = train_test_split(X, y, test_size=0.2, \n",
        "                                                    random_state=rs,\n",
        "                                                   stratify=df[['damage_bin']])\n",
        "X_train = X_train.drop(columns='damage_bin',axis=1)\n",
        "X_test = X_test.drop(columns='damage_bin',axis=1)"
      ],
      "metadata": {
        "execution": {
          "iopub.status.busy": "2023-05-27T19:42:52.042270Z",
          "iopub.execute_input": "2023-05-27T19:42:52.042772Z",
          "iopub.status.idle": "2023-05-27T19:42:52.065869Z",
          "shell.execute_reply.started": "2023-05-27T19:42:52.042729Z",
          "shell.execute_reply": "2023-05-27T19:42:52.064530Z"
        },
        "trusted": true,
        "id": "oKEQ343W1tSM"
      },
      "execution_count": null,
      "outputs": []
    },
    {
      "cell_type": "markdown",
      "source": [
        "# Baseline Models"
      ],
      "metadata": {
        "id": "_IV_xx631tSN"
      }
    },
    {
      "cell_type": "markdown",
      "source": [
        "**Random Forest**"
      ],
      "metadata": {
        "id": "x1jsZW-L1tSP"
      }
    },
    {
      "cell_type": "code",
      "source": [
        "from sklearn.metrics import accuracy_score\n",
        "from sklearn.ensemble import RandomForestClassifier\n",
        "#rf = RandomForestRegressor()\n",
        "rf=RandomForestClassifier()\n",
        "rf.fit(X_train, Y_train)\n",
        "pipe1 = make_pipeline(\n",
        "    StandardScaler(),\n",
        "    RandomForestClassifier()\n",
        ")\n",
        "pipe1.fit(X_train, Y_train)\n",
        "\n",
        "y_pred1 = pipe1.predict(X_test)\n",
        "y_pred = rf.predict(X_test)\n",
        "\n",
        "print(accuracy_score(Y_test, y_pred1))\n",
        "print(accuracy_score(Y_test, y_pred))"
      ],
      "metadata": {
        "execution": {
          "iopub.status.busy": "2023-05-27T19:45:41.729888Z",
          "iopub.execute_input": "2023-05-27T19:45:41.730350Z",
          "iopub.status.idle": "2023-05-27T19:45:42.288776Z",
          "shell.execute_reply.started": "2023-05-27T19:45:41.730309Z",
          "shell.execute_reply": "2023-05-27T19:45:42.287290Z"
        },
        "trusted": true,
        "id": "3hSjsJSW1tSP"
      },
      "execution_count": null,
      "outputs": []
    },
    {
      "cell_type": "code",
      "source": [
        "from sklearn.neighbors import KNeighborsClassifier\n",
        "knn_classifier = KNeighborsClassifier()\n",
        "knn_classifier.fit(X_train, Y_train)\n",
        "y_pred = knn_classifier.predict(X_test)\n",
        "accuracy = accuracy_score(Y_test, y_pred)\n",
        "print('Accuracy:', accuracy)"
      ],
      "metadata": {
        "execution": {
          "iopub.status.busy": "2023-05-27T19:47:39.505667Z",
          "iopub.execute_input": "2023-05-27T19:47:39.506119Z",
          "iopub.status.idle": "2023-05-27T19:47:39.525096Z",
          "shell.execute_reply.started": "2023-05-27T19:47:39.506081Z",
          "shell.execute_reply": "2023-05-27T19:47:39.523879Z"
        },
        "trusted": true,
        "id": "9QEj_ioi1tSP"
      },
      "execution_count": null,
      "outputs": []
    },
    {
      "cell_type": "code",
      "source": [
        "from sklearn.linear_model import LogisticRegression\n",
        "from sklearn.model_selection import train_test_split\n",
        "from sklearn.metrics import accuracy_score"
      ],
      "metadata": {
        "execution": {
          "iopub.status.busy": "2023-05-27T19:58:07.213261Z",
          "iopub.execute_input": "2023-05-27T19:58:07.213780Z",
          "iopub.status.idle": "2023-05-27T19:58:07.219799Z",
          "shell.execute_reply.started": "2023-05-27T19:58:07.213739Z",
          "shell.execute_reply": "2023-05-27T19:58:07.218817Z"
        },
        "trusted": true,
        "id": "hVY2_E3d1tSQ"
      },
      "execution_count": null,
      "outputs": []
    },
    {
      "cell_type": "code",
      "source": [
        "logreg_classifier = LogisticRegression()\n",
        "logreg_classifier.fit(X_train, Y_train)\n",
        "y_pred = logreg_classifier.predict(X_test)\n",
        "accuracy = accuracy_score(Y_test, y_pred)\n",
        "print('Accuracy:', accuracy)\n",
        "\n"
      ],
      "metadata": {
        "execution": {
          "iopub.status.busy": "2023-05-27T19:59:23.164964Z",
          "iopub.execute_input": "2023-05-27T19:59:23.165481Z",
          "iopub.status.idle": "2023-05-27T19:59:23.197124Z",
          "shell.execute_reply.started": "2023-05-27T19:59:23.165430Z",
          "shell.execute_reply": "2023-05-27T19:59:23.195845Z"
        },
        "trusted": true,
        "id": "TmRWSikY1tSQ"
      },
      "execution_count": null,
      "outputs": []
    },
    {
      "cell_type": "code",
      "source": [
        "from sklearn.metrics import confusion_matrix\n",
        "import seaborn as sns\n",
        "import matplotlib.pyplot as plt\n"
      ],
      "metadata": {
        "execution": {
          "iopub.status.busy": "2023-05-27T20:02:08.613803Z",
          "iopub.execute_input": "2023-05-27T20:02:08.614295Z",
          "iopub.status.idle": "2023-05-27T20:02:08.620711Z",
          "shell.execute_reply.started": "2023-05-27T20:02:08.614245Z",
          "shell.execute_reply": "2023-05-27T20:02:08.619410Z"
        },
        "trusted": true,
        "id": "N3lfDEZE1tSQ"
      },
      "execution_count": null,
      "outputs": []
    },
    {
      "cell_type": "code",
      "source": [],
      "metadata": {
        "execution": {
          "iopub.status.busy": "2023-05-27T20:08:10.590380Z",
          "iopub.execute_input": "2023-05-27T20:08:10.590903Z",
          "iopub.status.idle": "2023-05-27T20:08:10.602405Z",
          "shell.execute_reply.started": "2023-05-27T20:08:10.590860Z",
          "shell.execute_reply": "2023-05-27T20:08:10.600834Z"
        },
        "trusted": true,
        "id": "9Q8cJEpe1tSR"
      },
      "execution_count": null,
      "outputs": []
    },
    {
      "cell_type": "code",
      "source": [
        "cm = confusion_matrix(Y_test, y_pred)\n",
        "class_labels = ['No damage', 'damage']\n",
        "plt.figure(figsize=(8, 6))\n",
        "sns.heatmap(cm, annot=True, cmap='Blues', fmt='d', xticklabels=class_labels, yticklabels=class_labels)\n",
        "plt.title('Confusion Matrix')\n",
        "plt.xlabel('Predicted')\n",
        "plt.ylabel('True')\n",
        "plt.show()"
      ],
      "metadata": {
        "execution": {
          "iopub.status.busy": "2023-05-27T20:04:58.227460Z",
          "iopub.execute_input": "2023-05-27T20:04:58.227937Z",
          "iopub.status.idle": "2023-05-27T20:04:58.523890Z",
          "shell.execute_reply.started": "2023-05-27T20:04:58.227900Z",
          "shell.execute_reply": "2023-05-27T20:04:58.522572Z"
        },
        "trusted": true,
        "id": "d9STcIxm1tSR"
      },
      "execution_count": null,
      "outputs": []
    },
    {
      "cell_type": "code",
      "source": [
        "from sklearn.pipeline import make_pipeline\n",
        "from sklearn.preprocessing import StandardScaler\n",
        "from sklearn.linear_model import LogisticRegression"
      ],
      "metadata": {
        "id": "NnldWYCqhIml"
      },
      "execution_count": null,
      "outputs": []
    },
    {
      "cell_type": "code",
      "source": [
        "pipe = make_pipeline(\n",
        "    StandardScaler(),\n",
        "    LogisticRegression()\n",
        ")\n",
        "pipe.fit(X_train, Y_train)\n",
        "y_pred = pipe.predict(X_test)\n"
      ],
      "metadata": {
        "id": "HSyaB_R0hJsx"
      },
      "execution_count": null,
      "outputs": []
    },
    {
      "cell_type": "code",
      "source": [
        "accuracy = accuracy_score(Y_test, y_pred)"
      ],
      "metadata": {
        "id": "CLcputS9iOed"
      },
      "execution_count": null,
      "outputs": []
    },
    {
      "cell_type": "code",
      "source": [
        "accuracy"
      ],
      "metadata": {
        "id": "xa84wQSWiR6r"
      },
      "execution_count": null,
      "outputs": []
    },
    {
      "cell_type": "code",
      "source": [
        "from sklearn.tree import DecisionTreeClassifier\n",
        "from sklearn.model_selection import train_test_split\n",
        "from sklearn.metrics import accuracy_score\n",
        "\n",
        "# Create a Decision Tree Classifier object\n",
        "clf = DecisionTreeClassifier(criterion='gini', splitter='best')\n",
        "clf.fit(X_train, Y_train)\n",
        "accuracy = accuracy_score(Y_test, y_pred)\n",
        "y_pred = clf.predict(X_test)\n",
        "print(\"Accuracy:\", accuracy)"
      ],
      "metadata": {
        "id": "1GP7P-ot6dKi"
      },
      "execution_count": null,
      "outputs": []
    },
    {
      "cell_type": "code",
      "source": [
        "from sklearn.ensemble import RandomForestClassifier, AdaBoostClassifier\n",
        "from sklearn.model_selection import train_test_split\n",
        "from sklearn.metrics import accuracy_score\n",
        "\n",
        "# Create a Random Forest Classifier object\n",
        "rf_classifier = RandomForestClassifier(n_estimators=100)\n",
        "\n",
        "# Create an AdaBoost Classifier object with the Random Forest Classifier as the base estimator\n",
        "adaboost_classifier = AdaBoostClassifier(base_estimator=rf_classifier, n_estimators=50)\n",
        "\n",
        "\n",
        "# Train the AdaBoost classifier on the training data\n",
        "adaboost_classifier.fit(X_train, Y_train)\n",
        "\n",
        "# Make predictions on the test data\n",
        "y_pred = adaboost_classifier.predict(X_test)\n",
        "\n",
        "# Evaluate the accuracy of the classifier\n",
        "accuracy = accuracy_score(Y_test, y_pred)\n",
        "print(\"Accuracy:\", accuracy)\n"
      ],
      "metadata": {
        "id": "CfzQVwCu645_"
      },
      "execution_count": null,
      "outputs": []
    }
  ]
}